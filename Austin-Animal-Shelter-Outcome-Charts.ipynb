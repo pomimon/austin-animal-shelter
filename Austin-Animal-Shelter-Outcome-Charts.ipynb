{
  "metadata": {
    "kernelspec": {
      "name": "python",
      "display_name": "Python (Pyodide)",
      "language": "python"
    },
    "language_info": {
      "codemirror_mode": {
        "name": "python",
        "version": 3
      },
      "file_extension": ".py",
      "mimetype": "text/x-python",
      "name": "python",
      "nbconvert_exporter": "python",
      "pygments_lexer": "ipython3",
      "version": "3.8"
    }
  },
  "nbformat_minor": 4,
  "nbformat": 4,
  "cells": [
    {
      "cell_type": "code",
      "source": "import pandas as pd\nimport numpy as np\nimport seaborn as sns\nimport matplotlib.pyplot as plt",
      "metadata": {},
      "outputs": [],
      "execution_count": 1
    },
    {
      "cell_type": "markdown",
      "source": "# Austin Animal Shelter Outcomes\n",
      "metadata": {},
      "attachments": {}
    },
    {
      "cell_type": "markdown",
      "source": "##### Answers the following questions\n\nWhat is the average age when animals leave the shelter?\n\nWhat percentage of animals were adopted during the years of 2013-2021?\n\nWhat percentage of animals were adopted during 2015?\n\nWhat percentage of animals were euthanised?\n\nWhat is the percentage of Dogs and cats that were adopted?\n\nWhat is the percentage of Dogs and cats that were returned to owners?\n\nWhat percentage of dogs, cats and other were euthanised?",
      "metadata": {},
      "attachments": {}
    },
    {
      "cell_type": "code",
      "source": "# read csv and replace blanks with NaN\nanimal_data = pd.read_csv('Austin_Animal_Center_Outcomes.csv', na_values=' ')\n# dropped MonthYear as it's the same values as DateTime, Dropped Outcome Subtype as there are too many blank values to have accurate reporting\nanimal_data.drop(['MonthYear', 'Outcome Subtype'], axis=1, inplace=True)\n# print sample of updated csv\nanimal_data.head()",
      "metadata": {},
      "outputs": [
        {
          "data": {
            "text/html": [
              "<div>\n",
              "<style scoped>\n",
              "    .dataframe tbody tr th:only-of-type {\n",
              "        vertical-align: middle;\n",
              "    }\n",
              "\n",
              "    .dataframe tbody tr th {\n",
              "        vertical-align: top;\n",
              "    }\n",
              "\n",
              "    .dataframe thead th {\n",
              "        text-align: right;\n",
              "    }\n",
              "</style>\n",
              "<table border=\"1\" class=\"dataframe\">\n",
              "  <thead>\n",
              "    <tr style=\"text-align: right;\">\n",
              "      <th></th>\n",
              "      <th>Animal ID</th>\n",
              "      <th>Name</th>\n",
              "      <th>DateTime</th>\n",
              "      <th>Date of Birth</th>\n",
              "      <th>Outcome Type</th>\n",
              "      <th>Animal Type</th>\n",
              "      <th>Sex upon Outcome</th>\n",
              "      <th>Age upon Outcome</th>\n",
              "      <th>Breed</th>\n",
              "      <th>Color</th>\n",
              "    </tr>\n",
              "  </thead>\n",
              "  <tbody>\n",
              "    <tr>\n",
              "      <th>0</th>\n",
              "      <td>A794011</td>\n",
              "      <td>Chunk</td>\n",
              "      <td>05/08/2019 06:20:00 PM</td>\n",
              "      <td>05/02/2017</td>\n",
              "      <td>Rto-Adopt</td>\n",
              "      <td>Cat</td>\n",
              "      <td>Neutered Male</td>\n",
              "      <td>2 years</td>\n",
              "      <td>Domestic Shorthair Mix</td>\n",
              "      <td>Brown Tabby/White</td>\n",
              "    </tr>\n",
              "    <tr>\n",
              "      <th>1</th>\n",
              "      <td>A776359</td>\n",
              "      <td>Gizmo</td>\n",
              "      <td>07/18/2018 04:02:00 PM</td>\n",
              "      <td>07/12/2017</td>\n",
              "      <td>Adoption</td>\n",
              "      <td>Dog</td>\n",
              "      <td>Neutered Male</td>\n",
              "      <td>1 year</td>\n",
              "      <td>Chihuahua Shorthair Mix</td>\n",
              "      <td>White/Brown</td>\n",
              "    </tr>\n",
              "    <tr>\n",
              "      <th>2</th>\n",
              "      <td>A821648</td>\n",
              "      <td>NaN</td>\n",
              "      <td>08/16/2020 11:38:00 AM</td>\n",
              "      <td>08/16/2019</td>\n",
              "      <td>Euthanasia</td>\n",
              "      <td>Other</td>\n",
              "      <td>Unknown</td>\n",
              "      <td>1 year</td>\n",
              "      <td>Raccoon</td>\n",
              "      <td>Gray</td>\n",
              "    </tr>\n",
              "    <tr>\n",
              "      <th>3</th>\n",
              "      <td>A720371</td>\n",
              "      <td>Moose</td>\n",
              "      <td>02/13/2016 05:59:00 PM</td>\n",
              "      <td>10/08/2015</td>\n",
              "      <td>Adoption</td>\n",
              "      <td>Dog</td>\n",
              "      <td>Neutered Male</td>\n",
              "      <td>4 months</td>\n",
              "      <td>Anatol Shepherd/Labrador Retriever</td>\n",
              "      <td>Buff</td>\n",
              "    </tr>\n",
              "    <tr>\n",
              "      <th>4</th>\n",
              "      <td>A674754</td>\n",
              "      <td>NaN</td>\n",
              "      <td>03/18/2014 11:47:00 AM</td>\n",
              "      <td>03/12/2014</td>\n",
              "      <td>Transfer</td>\n",
              "      <td>Cat</td>\n",
              "      <td>Intact Male</td>\n",
              "      <td>6 days</td>\n",
              "      <td>Domestic Shorthair Mix</td>\n",
              "      <td>Orange Tabby</td>\n",
              "    </tr>\n",
              "  </tbody>\n",
              "</table>\n",
              "</div>"
            ],
            "text/plain": [
              "  Animal ID   Name                DateTime Date of Birth Outcome Type  \\\n",
              "0   A794011  Chunk  05/08/2019 06:20:00 PM    05/02/2017    Rto-Adopt   \n",
              "1   A776359  Gizmo  07/18/2018 04:02:00 PM    07/12/2017     Adoption   \n",
              "2   A821648    NaN  08/16/2020 11:38:00 AM    08/16/2019   Euthanasia   \n",
              "3   A720371  Moose  02/13/2016 05:59:00 PM    10/08/2015     Adoption   \n",
              "4   A674754    NaN  03/18/2014 11:47:00 AM    03/12/2014     Transfer   \n",
              "\n",
              "  Animal Type Sex upon Outcome Age upon Outcome  \\\n",
              "0         Cat    Neutered Male          2 years   \n",
              "1         Dog    Neutered Male           1 year   \n",
              "2       Other          Unknown           1 year   \n",
              "3         Dog    Neutered Male         4 months   \n",
              "4         Cat      Intact Male           6 days   \n",
              "\n",
              "                                Breed              Color  \n",
              "0              Domestic Shorthair Mix  Brown Tabby/White  \n",
              "1             Chihuahua Shorthair Mix        White/Brown  \n",
              "2                             Raccoon               Gray  \n",
              "3  Anatol Shepherd/Labrador Retriever               Buff  \n",
              "4              Domestic Shorthair Mix       Orange Tabby  "
            ]
          },
          "execution_count": 52,
          "metadata": {},
          "output_type": "execute_result"
        }
      ],
      "execution_count": 52
    },
    {
      "cell_type": "code",
      "source": "animal_data.info()",
      "metadata": {},
      "outputs": [
        {
          "name": "stdout",
          "output_type": "stream",
          "text": "<class 'pandas.core.frame.DataFrame'>\n,RangeIndex: 124491 entries, 0 to 124490\n,Data columns (total 10 columns):\n, #   Column            Non-Null Count   Dtype \n,---  ------            --------------   ----- \n, 0   Animal ID         124491 non-null  object\n, 1   Name              85466 non-null   object\n, 2   DateTime          124491 non-null  object\n, 3   Date of Birth     124491 non-null  object\n, 4   Outcome Type      124471 non-null  object\n, 5   Animal Type       124491 non-null  object\n, 6   Sex upon Outcome  124490 non-null  object\n, 7   Age upon Outcome  124486 non-null  object\n, 8   Breed             124491 non-null  object\n, 9   Color             124491 non-null  object\n,dtypes: object(10)\n,memory usage: 9.5+ MB\n"
        }
      ],
      "execution_count": 12
    },
    {
      "cell_type": "markdown",
      "source": "### Outcome types of animals",
      "metadata": {},
      "attachments": {}
    },
    {
      "cell_type": "code",
      "source": "animal_data['Outcome Type'].value_counts()",
      "metadata": {},
      "outputs": [
        {
          "data": {
            "text/plain": [
              "Adoption           55347\n",
              "Transfer           36713\n",
              "Return to Owner    21517\n",
              "Euthanasia          8381\n",
              "Died                1156\n",
              "Rto-Adopt            698\n",
              "Disposal             568\n",
              "Missing               69\n",
              "Relocate              22\n",
              "Name: Outcome Type, dtype: int64"
            ]
          },
          "execution_count": 13,
          "metadata": {},
          "output_type": "execute_result"
        }
      ],
      "execution_count": 13
    },
    {
      "cell_type": "markdown",
      "source": "### Percentage of adoptions throughout the years of 2013 - 2021",
      "metadata": {},
      "attachments": {}
    },
    {
      "cell_type": "code",
      "source": "# calculates number of rows with 'adoption' in them\nadoption_count = len(animal_data[animal_data[\"Outcome Type\"] == 'Adoption'])\n# calculates number of rows in dataset\ntotal_count = len(animal_data)\n\nadoption_percent = (adoption_count / total_count) * 100\nadoption_percent\n",
      "metadata": {},
      "outputs": [
        {
          "data": {
            "text/plain": [
              "44.458635564016674"
            ]
          },
          "execution_count": 33,
          "metadata": {},
          "output_type": "execute_result"
        }
      ],
      "execution_count": 33
    },
    {
      "cell_type": "markdown",
      "source": "### Number of animals in shelter from 2013 - 2021",
      "metadata": {},
      "attachments": {}
    },
    {
      "cell_type": "code",
      "source": "animal_data['Animal ID'].count()",
      "metadata": {},
      "outputs": [
        {
          "data": {
            "text/plain": [
              "124491"
            ]
          },
          "execution_count": 69,
          "metadata": {},
          "output_type": "execute_result"
        }
      ],
      "execution_count": 69
    },
    {
      "cell_type": "markdown",
      "source": "### Types and counts of animals",
      "metadata": {},
      "attachments": {}
    },
    {
      "cell_type": "code",
      "source": "animal_data['Animal Type'].value_counts()",
      "metadata": {},
      "outputs": [
        {
          "data": {
            "text/plain": [
              "Dog          70516\n",
              "Cat          46762\n",
              "Other         6608\n",
              "Bird           585\n",
              "Livestock       20\n",
              "Name: Animal Type, dtype: int64"
            ]
          },
          "execution_count": 14,
          "metadata": {},
          "output_type": "execute_result"
        }
      ],
      "execution_count": 14
    },
    {
      "cell_type": "markdown",
      "source": "### Age upon Outcome",
      "metadata": {},
      "attachments": {}
    },
    {
      "cell_type": "markdown",
      "source": "##### Most common age of animals leaving the centre is between 2 months to 2 years of age with the most common being 1 years of age",
      "metadata": {},
      "attachments": {}
    },
    {
      "cell_type": "code",
      "source": "animal_data['Age upon Outcome'].value_counts()",
      "metadata": {},
      "outputs": [
        {
          "data": {
            "text/plain": [
              "1 year       22130\n",
              "2 years      19016\n",
              "2 months     15029\n",
              "3 years       7589\n",
              "3 months      5943\n",
              "1 month       5348\n",
              "4 years       4430\n",
              "5 years       4100\n",
              "4 months      4024\n",
              "5 months      3098\n",
              "6 months      2997\n",
              "6 years       2727\n",
              "8 years       2371\n",
              "7 years       2345\n",
              "3 weeks       2124\n",
              "2 weeks       2033\n",
              "8 months      1981\n",
              "10 years      1893\n",
              "10 months     1810\n",
              "4 weeks       1803\n",
              "7 months      1598\n",
              "9 years       1297\n",
              "9 months      1276\n",
              "12 years       921\n",
              "1 weeks        850\n",
              "11 months      787\n",
              "11 years       740\n",
              "1 week         660\n",
              "13 years       594\n",
              "14 years       396\n",
              "3 days         354\n",
              "2 days         347\n",
              "15 years       338\n",
              "1 day          264\n",
              "6 days         237\n",
              "4 days         235\n",
              "0 years        185\n",
              "5 days         158\n",
              "16 years       141\n",
              "5 weeks        121\n",
              "17 years        85\n",
              "18 years        49\n",
              "19 years        27\n",
              "20 years        19\n",
              "22 years         5\n",
              "-1 years         5\n",
              "-2 years         1\n",
              "23 years         1\n",
              "24 years         1\n",
              "25 years         1\n",
              "21 years         1\n",
              "-3 years         1\n",
              "Name: Age upon Outcome, dtype: int64"
            ]
          },
          "execution_count": 15,
          "metadata": {},
          "output_type": "execute_result"
        }
      ],
      "execution_count": 15
    },
    {
      "cell_type": "markdown",
      "source": "### Sex upon Outcome",
      "metadata": {},
      "attachments": {}
    },
    {
      "cell_type": "markdown",
      "source": "##### Animals leaving the shelter are mainly neutered/spayed animals",
      "metadata": {},
      "attachments": {}
    },
    {
      "cell_type": "code",
      "source": "animal_data['Sex upon Outcome'].value_counts()",
      "metadata": {},
      "outputs": [
        {
          "data": {
            "text/plain": [
              "Neutered Male    43794\n",
              "Spayed Female    39359\n",
              "Intact Male      15786\n",
              "Intact Female    15329\n",
              "Unknown          10222\n",
              "Name: Sex upon Outcome, dtype: int64"
            ]
          },
          "execution_count": 16,
          "metadata": {},
          "output_type": "execute_result"
        }
      ],
      "execution_count": 16
    },
    {
      "cell_type": "markdown",
      "source": "### 18506 animals were in the shelter in 2015",
      "metadata": {},
      "attachments": {}
    },
    {
      "cell_type": "code",
      "source": "animal_data['DateTime'] = pd.to_datetime(animal_data['DateTime'])\n\n# Create new columns for year and month\nanimal_data['Year'] = animal_data['DateTime'].dt.year\nanimal_data['Month'] = animal_data['DateTime'].dt.month\noutcome_amount = animal_data[animal_data['Year'] == 2015]['Outcome Type'].count()\n#intake_year = animal_data[animal_data['Year'] == 2015]['Animal ID'].count()\noutcome_amount",
      "metadata": {},
      "outputs": [
        {
          "data": {
            "text/plain": [
              "18506"
            ]
          },
          "execution_count": 72,
          "metadata": {},
          "output_type": "execute_result"
        }
      ],
      "execution_count": 72
    },
    {
      "cell_type": "markdown",
      "source": "### 40% of animals were adopted in 2015",
      "metadata": {},
      "attachments": {}
    },
    {
      "cell_type": "code",
      "source": "#convert to datetime format\nanimal_data['DateTime'] = pd.to_datetime(animal_data['DateTime'])\n\n# Create new columns for year and month\nanimal_data['Year'] = animal_data['DateTime'].dt.year\nanimal_data['Month'] = animal_data['DateTime'].dt.month\n\nadoption_data = animal_data[(animal_data[\"Outcome Type\"] == 'Adoption') & (animal_data[\"Year\"] == 2015)]\n\n# get the count of adopted animals in the specified year\nadoption_count = len(adoption_data)\n\n# get the count of all animals in the specified year\ntotal_count = len(animal_data[animal_data[\"Year\"] == 2015])\n\n# get the percent of adoptions for specified year\nadoption_percent = (adoption_count / total_count) * 100\n\n# print percentage\nadoption_percent",
      "metadata": {},
      "outputs": [
        {
          "data": {
            "text/plain": [
              "39.86274721711877"
            ]
          },
          "execution_count": 73,
          "metadata": {},
          "output_type": "execute_result"
        }
      ],
      "execution_count": 73
    },
    {
      "cell_type": "markdown",
      "source": "### 19% of adopted animals were neutered males",
      "metadata": {},
      "attachments": {}
    },
    {
      "cell_type": "code",
      "source": "#convert to datetime format\nanimal_data['DateTime'] = pd.to_datetime(animal_data['DateTime'])\n\n# Create new columns for year and month\nanimal_data['Year'] = animal_data['DateTime'].dt.year\nanimal_data['Month'] = animal_data['DateTime'].dt.month\n\nadoption_data = animal_data[(animal_data[\"Outcome Type\"] == 'Adoption') & (animal_data[\"Year\"] == 2015) & (animal_data['Sex upon Outcome'] == 'Neutered Male')]\n\n# get the count of adopted animals in the specified year\nadoption_count = len(adoption_data)\n\n# get the count of all animals in the specified year\ntotal_count = len(animal_data[animal_data[\"Year\"] == 2015])\n\n# get the percent of adoptions for specified year\nadoption_percent = (adoption_count / total_count) * 100\n\n# print percentage\nadoption_percent",
      "metadata": {},
      "outputs": [
        {
          "data": {
            "text/plain": [
              "19.31805900788933"
            ]
          },
          "execution_count": 104,
          "metadata": {},
          "output_type": "execute_result"
        }
      ],
      "execution_count": 104
    },
    {
      "cell_type": "markdown",
      "source": "### 19% of adopted animals were spayed females",
      "metadata": {},
      "attachments": {}
    },
    {
      "cell_type": "code",
      "source": "#convert to datetime format\nanimal_data['DateTime'] = pd.to_datetime(animal_data['DateTime'])\n\n# Create new columns for year and month\nanimal_data['Year'] = animal_data['DateTime'].dt.year\nanimal_data['Month'] = animal_data['DateTime'].dt.month\n\nadoption_data = animal_data[(animal_data[\"Outcome Type\"] == 'Adoption') & (animal_data[\"Year\"] == 2015) & (animal_data['Sex upon Outcome'] == 'Spayed Female')]\n\n# get the count of adopted animals in the specified year\nadoption_count = len(adoption_data)\n\n# get the count of all animals in the specified year\ntotal_count = len(animal_data[animal_data[\"Year\"] == 2015])\n\n# get the percent of adoptions for specified year\nadoption_percent = (adoption_count / total_count) * 100\n\n# print percentage\nadoption_percent",
      "metadata": {},
      "outputs": [
        {
          "data": {
            "text/plain": [
              "19.02626175294499"
            ]
          },
          "execution_count": 105,
          "metadata": {},
          "output_type": "execute_result"
        }
      ],
      "execution_count": 105
    },
    {
      "cell_type": "markdown",
      "source": "### less than 1% of adopted animals were not neutered",
      "metadata": {},
      "attachments": {}
    },
    {
      "cell_type": "code",
      "source": "#convert to datetime format\nanimal_data['DateTime'] = pd.to_datetime(animal_data['DateTime'])\n\n# Create new columns for year and month\nanimal_data['Year'] = animal_data['DateTime'].dt.year\nanimal_data['Month'] = animal_data['DateTime'].dt.month\n\nadoption_data = animal_data[(animal_data[\"Outcome Type\"] == 'Adoption') & (animal_data[\"Year\"] == 2015) & (animal_data['Sex upon Outcome'] == 'Intact Male')]\n\n# get the count of adopted animals in the specified year\nadoption_count = len(adoption_data)\n\n# get the count of all animals in the specified year\ntotal_count = len(animal_data[animal_data[\"Year\"] == 2015])\n\n# get the percent of adoptions for specified year\nadoption_percent = (adoption_count / total_count) * 100\n\n# print percentage\nadoption_percent",
      "metadata": {},
      "outputs": [
        {
          "data": {
            "text/plain": [
              "0.5998054684967038"
            ]
          },
          "execution_count": 106,
          "metadata": {},
          "output_type": "execute_result"
        }
      ],
      "execution_count": 106
    },
    {
      "cell_type": "markdown",
      "source": "### less than 1% of adopted animals were not spayed",
      "metadata": {},
      "attachments": {}
    },
    {
      "cell_type": "code",
      "source": "#convert to datetime format\nanimal_data['DateTime'] = pd.to_datetime(animal_data['DateTime'])\n\n# Create new columns for year and month\nanimal_data['Year'] = animal_data['DateTime'].dt.year\nanimal_data['Month'] = animal_data['DateTime'].dt.month\n\nadoption_data = animal_data[(animal_data[\"Outcome Type\"] == 'Adoption') & (animal_data[\"Year\"] == 2015) & (animal_data['Sex upon Outcome'] == 'Intact Female')]\n\n# get the count of adopted animals in the specified year\nadoption_count = len(adoption_data)\n\n# get the count of all animals in the specified year\ntotal_count = len(animal_data[animal_data[\"Year\"] == 2015])\n\n# get the percent of adoptions for specified year\nadoption_percent = (adoption_count / total_count) * 100\n\n# print percentage\nadoption_percent",
      "metadata": {},
      "outputs": [
        {
          "data": {
            "text/plain": [
              "0.8267588890089701"
            ]
          },
          "execution_count": 107,
          "metadata": {},
          "output_type": "execute_result"
        }
      ],
      "execution_count": 107
    },
    {
      "cell_type": "markdown",
      "source": "### 32% were transfered out of the shelter in 2015",
      "metadata": {},
      "attachments": {}
    },
    {
      "cell_type": "code",
      "source": "animal_data['DateTime'] = pd.to_datetime(animal_data['DateTime'])\n\n# Create new columns for year and month\nanimal_data['Year'] = animal_data['DateTime'].dt.year\nanimal_data['Month'] = animal_data['DateTime'].dt.month\n\ntransfer_data = animal_data[(animal_data[\"Outcome Type\"] == 'Transfer') & (animal_data[\"Year\"] == 2015)]\n\n# get the count of adopted animals in the specified year\ntransfer_count = len(transfer_data)\n\n# get the count of all animals in the specified year\ntotal_count = len(animal_data[animal_data[\"Year\"] == 2015])\n\n# get the percent of adoptions for specified year\ntransfer_percent = (transfer_count / total_count) * 100\n\n# print percentage\ntransfer_percent",
      "metadata": {},
      "outputs": [
        {
          "data": {
            "text/plain": [
              "32.0490651680536"
            ]
          },
          "execution_count": 75,
          "metadata": {},
          "output_type": "execute_result"
        }
      ],
      "execution_count": 75
    },
    {
      "cell_type": "markdown",
      "source": "### 19% were returned to owners in 2015",
      "metadata": {},
      "attachments": {}
    },
    {
      "cell_type": "code",
      "source": "#convert to datetime format\nanimal_data['DateTime'] = pd.to_datetime(animal_data['DateTime'])\n\n# Create new columns for year and month\nanimal_data['Year'] = animal_data['DateTime'].dt.year\nanimal_data['Month'] = animal_data['DateTime'].dt.month\n\nretowner_data = animal_data[(animal_data[\"Outcome Type\"] == 'Return to Owner') & (animal_data[\"Year\"] == 2015)]\n\n# get the count of adopted animals in the specified year\nretowner_count = len(retowner_data)\n\n# get the count of all animals in the specified year\ntotal_count = len(animal_data[animal_data[\"Year\"] == 2015])\n\n# get the percent of adoptions for specified year\nretowner_percent = (retowner_count / total_count) * 100\n\n# print percentage\nretowner_percent\n",
      "metadata": {},
      "outputs": [
        {
          "data": {
            "text/plain": [
              "18.939803307035554"
            ]
          },
          "execution_count": 76,
          "metadata": {},
          "output_type": "execute_result"
        }
      ],
      "execution_count": 76
    },
    {
      "cell_type": "markdown",
      "source": "### 8% were euthanized in 2015\n",
      "metadata": {},
      "attachments": {}
    },
    {
      "cell_type": "code",
      "source": "#convert to datetime format\nanimal_data['DateTime'] = pd.to_datetime(animal_data['DateTime'])\n\n# Create new columns for year and month\nanimal_data['Year'] = animal_data['DateTime'].dt.year\nanimal_data['Month'] = animal_data['DateTime'].dt.month\n\neuthanasia_data = animal_data[(animal_data[\"Outcome Type\"] == 'Euthanasia') & (animal_data[\"Year\"] == 2015)]\n\n# get the count of adopted animals in the specified year\neuthanasia_count = len(euthanasia_data)\n\n# get the count of all animals in the specified year\ntotal_count = len(animal_data[animal_data[\"Year\"] == 2015])\n\n# get the percent of adoptions for specified year\neuthanasia_percent = (euthanasia_count / total_count) * 100\n\n# print percentage\neuthanasia_percent",
      "metadata": {},
      "outputs": [
        {
          "data": {
            "text/plain": [
              "7.921755106451961"
            ]
          },
          "execution_count": 77,
          "metadata": {},
          "output_type": "execute_result"
        }
      ],
      "execution_count": 77
    },
    {
      "cell_type": "markdown",
      "source": "### 1% of animals have died in Shelter in 2015",
      "metadata": {},
      "attachments": {}
    },
    {
      "cell_type": "code",
      "source": "#convert to datetime format\nanimal_data['DateTime'] = pd.to_datetime(animal_data['DateTime'])\n\n# Create new columns for year and month\nanimal_data['Year'] = animal_data['DateTime'].dt.year\nanimal_data['Month'] = animal_data['DateTime'].dt.month\n\ndied_data = animal_data[(animal_data[\"Outcome Type\"] == 'Died') & (animal_data[\"Year\"] == 2015)]\n\n# get the count of adopted animals in the specified year\ndied_count = len(died_data)\n\n# get the count of all animals in the specified year\ntotal_count = len(animal_data[animal_data[\"Year\"] == 2015])\n\n# get the percent of adoptions for specified year\ndied_percent = (died_count / total_count) * 100\n\n# print percentage\ndied_percent",
      "metadata": {},
      "outputs": [
        {
          "data": {
            "text/plain": [
              "0.9996757808278396"
            ]
          },
          "execution_count": 78,
          "metadata": {},
          "output_type": "execute_result"
        }
      ],
      "execution_count": 78
    },
    {
      "cell_type": "markdown",
      "source": "### 24% of adopted animals were dogs in 2015",
      "metadata": {},
      "attachments": {}
    },
    {
      "cell_type": "code",
      "source": "\n\n#convert to datetime format\nanimal_data['DateTime'] = pd.to_datetime(animal_data['DateTime'])\n\n# Create new columns for year and month\nanimal_data['Year'] = animal_data['DateTime'].dt.year\nanimal_data['Month'] = animal_data['DateTime'].dt.month\n\nadoption_data = animal_data[(animal_data[\"Outcome Type\"] == 'Adoption') & (animal_data[\"Year\"] == 2015) & (animal_data['Animal Type'] == 'Dog')]\n\n# get the count of adopted animals in the specified year\nadoption_count = len(adoption_data)\n\n# get the count of all animals in the specified year\ntotal_count = len(animal_data[animal_data[\"Year\"] == 2015])\n\n# get the percent of adoptions for specified year\nadoption_percent = (adoption_count / total_count) * 100\n\n# print percentage\nadoption_percent",
      "metadata": {},
      "outputs": [
        {
          "data": {
            "text/plain": [
              "24.18675024316438"
            ]
          },
          "execution_count": 79,
          "metadata": {},
          "output_type": "execute_result"
        }
      ],
      "execution_count": 79
    },
    {
      "cell_type": "markdown",
      "source": "### 16% of adopted animals were cats in 2015",
      "metadata": {},
      "attachments": {}
    },
    {
      "cell_type": "code",
      "source": "#convert to datetime format\nanimal_data['DateTime'] = pd.to_datetime(animal_data['DateTime'])\n\n# Create new columns for year and month\nanimal_data['Year'] = animal_data['DateTime'].dt.year\nanimal_data['Month'] = animal_data['DateTime'].dt.month\n\nadoption_data = animal_data[(animal_data[\"Outcome Type\"] == 'Adoption') & (animal_data[\"Year\"] == 2015) & (animal_data['Animal Type'] == 'Cat')]\n\n# get the count of adopted animals in the specified year\nadoption_count = len(adoption_data)\n\n# get the count of all animals in the specified year\ntotal_count = len(animal_data[animal_data[\"Year\"] == 2015])\n\n# get the percent of adoptions for specified year\nadoption_percent = (adoption_count / total_count) * 100\n\n# print percentage\nadoption_percent",
      "metadata": {},
      "outputs": [
        {
          "data": {
            "text/plain": [
              "15.524694693612881"
            ]
          },
          "execution_count": 80,
          "metadata": {},
          "output_type": "execute_result"
        }
      ],
      "execution_count": 80
    },
    {
      "cell_type": "markdown",
      "source": "### 17% of dogs were returned to owners in 2015",
      "metadata": {},
      "attachments": {}
    },
    {
      "cell_type": "code",
      "source": "#convert to datetime format\nanimal_data['DateTime'] = pd.to_datetime(animal_data['DateTime'])\n\n# Create new columns for year and month\nanimal_data['Year'] = animal_data['DateTime'].dt.year\nanimal_data['Month'] = animal_data['DateTime'].dt.month\n\nretowner_data = animal_data[(animal_data[\"Outcome Type\"] == 'Return to Owner') & (animal_data[\"Year\"] == 2015) & (animal_data['Animal Type'] == 'Dog')]\n\n# get the count of adopted animals in the specified year\nretowner_count = len(retowner_data)\n\n# get the count of all animals in the specified year\ntotal_count = len(animal_data[animal_data[\"Year\"] == 2015])\n\n# get the percent of adoptions for specified year\nretowner_percent = (retowner_count / total_count) * 100\n\n# print percentage\nretowner_percent",
      "metadata": {},
      "outputs": [
        {
          "data": {
            "text/plain": [
              "17.026910191289314"
            ]
          },
          "execution_count": 81,
          "metadata": {},
          "output_type": "execute_result"
        }
      ],
      "execution_count": 81
    },
    {
      "cell_type": "markdown",
      "source": "### 2% of cats were returned to owners in 2015",
      "metadata": {},
      "attachments": {}
    },
    {
      "cell_type": "code",
      "source": "#convert to datetime format\nanimal_data['DateTime'] = pd.to_datetime(animal_data['DateTime'])\n\n# Create new columns for year and month\nanimal_data['Year'] = animal_data['DateTime'].dt.year\nanimal_data['Month'] = animal_data['DateTime'].dt.month\n\nretowner_data = animal_data[(animal_data[\"Outcome Type\"] == 'Return to Owner') & (animal_data[\"Year\"] == 2015) & (animal_data['Animal Type'] == 'Cat')]\n\n# get the count of adopted animals in the specified year\nretowner_count = len(retowner_data)\n\n# get the count of all animals in the specified year\ntotal_count = len(animal_data[animal_data[\"Year\"] == 2015])\n\n# get the percent of adoptions for specified year\nretowner_percent = (retowner_count / total_count) * 100\n\n# print percentage\nretowner_percent",
      "metadata": {},
      "outputs": [
        {
          "data": {
            "text/plain": [
              "1.8480492813141685"
            ]
          },
          "execution_count": 82,
          "metadata": {},
          "output_type": "execute_result"
        }
      ],
      "execution_count": 82
    },
    {
      "cell_type": "markdown",
      "source": "### 8% of animals were euthanized, 2% were dogs in 2015",
      "metadata": {},
      "attachments": {}
    },
    {
      "cell_type": "code",
      "source": "#convert to datetime format\nanimal_data['DateTime'] = pd.to_datetime(animal_data['DateTime'])\n\n# Create new columns for year and month\nanimal_data['Year'] = animal_data['DateTime'].dt.year\nanimal_data['Month'] = animal_data['DateTime'].dt.month\n\neuthanasia_data = animal_data[(animal_data[\"Outcome Type\"] == 'Euthanasia') & (animal_data[\"Year\"] == 2015) & (animal_data['Animal Type'] == 'Dog')]\n\n# get the count of adopted animals in the specified year\neuthanasia_count = len(euthanasia_data)\n\n# get the count of all animals in the specified year\ntotal_count = len(animal_data[animal_data[\"Year\"] == 2015])\n\n# get the percent of adoptions for specified year\neuthanasia_percent = (euthanasia_count / total_count) * 100\n\n# print percentage\neuthanasia_percent",
      "metadata": {},
      "outputs": [
        {
          "data": {
            "text/plain": [
              "2.269534205122663"
            ]
          },
          "execution_count": 83,
          "metadata": {},
          "output_type": "execute_result"
        }
      ],
      "execution_count": 83
    },
    {
      "cell_type": "code",
      "source": "animal_data[\"Animal Type\"].value_counts()",
      "metadata": {},
      "outputs": [
        {
          "data": {
            "text/plain": [
              "Dog          70516\n",
              "Cat          46762\n",
              "Other         6608\n",
              "Bird           585\n",
              "Livestock       20\n",
              "Name: Animal Type, dtype: int64"
            ]
          },
          "execution_count": 86,
          "metadata": {},
          "output_type": "execute_result"
        }
      ],
      "execution_count": 86
    },
    {
      "cell_type": "markdown",
      "source": "### 8% of animals were euthanized, 2% were cats in 2015",
      "metadata": {},
      "attachments": {}
    },
    {
      "cell_type": "code",
      "source": "#convert to datetime format\nanimal_data['DateTime'] = pd.to_datetime(animal_data['DateTime'])\n\n# Create new columns for year and month\nanimal_data['Year'] = animal_data['DateTime'].dt.year\nanimal_data['Month'] = animal_data['DateTime'].dt.month\n\neuthanasia_data = animal_data[(animal_data[\"Outcome Type\"] == 'Euthanasia') & (animal_data[\"Year\"] == 2015) & (animal_data['Animal Type'] == 'Cat')]\n\n# get the count of adopted animals in the specified year\neuthanasia_count = len(euthanasia_data)\n\n# get the count of all animals in the specified year\ntotal_count = len(animal_data[animal_data[\"Year\"] == 2015])\n\n# get the percent of adoptions for specified year\neuthanasia_percent = (euthanasia_count / total_count) * 100\n\n# print percentage\neuthanasia_percent",
      "metadata": {},
      "outputs": [
        {
          "data": {
            "text/plain": [
              "2.3127634280773806"
            ]
          },
          "execution_count": 84,
          "metadata": {},
          "output_type": "execute_result"
        }
      ],
      "execution_count": 84
    },
    {
      "cell_type": "markdown",
      "source": "### 8% of animals were euthanized, 3% were livestock, birds or labeled as other",
      "metadata": {},
      "attachments": {}
    },
    {
      "cell_type": "code",
      "source": "#convert to datetime format\nanimal_data['DateTime'] = pd.to_datetime(animal_data['DateTime'])\n\n# Create new columns for year and month\nanimal_data['Year'] = animal_data['DateTime'].dt.year\nanimal_data['Month'] = animal_data['DateTime'].dt.month\n\neuthanasia_data = animal_data[(animal_data[\"Outcome Type\"] == 'Euthanasia') & (animal_data[\"Year\"] == 2015) & ((animal_data['Animal Type'] == 'Other') | (animal_data['Animal Type'] == 'Livestock') | (animal_data['Animal Type'] == 'Bird'))]\n\n# get the count of adopted animals in the specified year\neuthanasia_count = len(euthanasia_data)\n\n# get the count of all animals in the specified year\ntotal_count = len(animal_data[animal_data[\"Year\"] == 2015])\n\n# get the percent of adoptions for specified year\neuthanasia_percent = (euthanasia_count / total_count) * 100\n\n# print percentage\neuthanasia_percent",
      "metadata": {},
      "outputs": [
        {
          "data": {
            "text/plain": [
              "3.339457473251918"
            ]
          },
          "execution_count": 98,
          "metadata": {},
          "output_type": "execute_result"
        }
      ],
      "execution_count": 98
    }
  ]
}